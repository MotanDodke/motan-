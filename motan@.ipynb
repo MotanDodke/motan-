{
 "cells": [
  {
   "cell_type": "markdown",
   "id": "14749f52",
   "metadata": {},
   "source": [
    "# join text"
   ]
  },
  {
   "cell_type": "code",
   "execution_count": 1,
   "id": "48d14351",
   "metadata": {},
   "outputs": [],
   "source": [
    "#join a multiple string with help of funcion "
   ]
  },
  {
   "cell_type": "code",
   "execution_count": 2,
   "id": "f93a4dc8",
   "metadata": {},
   "outputs": [],
   "source": [
    "def join_text (*args,separator=''):\n",
    "    return separator.join(args)"
   ]
  },
  {
   "cell_type": "code",
   "execution_count": 3,
   "id": "4ef3c27f",
   "metadata": {},
   "outputs": [],
   "source": [
    "t1 = \"hello\"\n",
    "t2 = \"boys\"\n",
    "\n",
    "joined_text = join_text(t1,t2, separator='_')"
   ]
  },
  {
   "cell_type": "code",
   "execution_count": 4,
   "id": "20543223",
   "metadata": {},
   "outputs": [
    {
     "name": "stdout",
     "output_type": "stream",
     "text": [
      "hello_boys\n"
     ]
    }
   ],
   "source": [
    "print(joined_text)"
   ]
  },
  {
   "cell_type": "markdown",
   "id": "3e174038",
   "metadata": {},
   "source": [
    "# trim text"
   ]
  },
  {
   "cell_type": "code",
   "execution_count": 5,
   "id": "43188e97",
   "metadata": {},
   "outputs": [],
   "source": [
    "def trim_text(text, side = 'both'):\n",
    "    if side == 'left':\n",
    "        return text.lstrip()\n",
    "    elif side == 'right':\n",
    "        return text.rstrip()\n",
    "    elif side == 'both':\n",
    "        return text.strip()"
   ]
  },
  {
   "cell_type": "code",
   "execution_count": 7,
   "id": "dab8e2b5",
   "metadata": {},
   "outputs": [
    {
     "name": "stdout",
     "output_type": "stream",
     "text": [
      "trimmed(both side): motan\n"
     ]
    }
   ],
   "source": [
    "text = \"   motan   \"\n",
    "trimmed_text_both = trim_text(text)\n",
    "print('trimmed(both side):',trimmed_text_both)"
   ]
  },
  {
   "cell_type": "code",
   "execution_count": 10,
   "id": "42b356e4",
   "metadata": {},
   "outputs": [
    {
     "name": "stdout",
     "output_type": "stream",
     "text": [
      "trimmed(right side); motan\n"
     ]
    }
   ],
   "source": [
    "trimmed_text_left = trim_text(text)\n",
    "print('trimmed(right side);',trimmed_text_left)"
   ]
  },
  {
   "cell_type": "code",
   "execution_count": 11,
   "id": "bb8081ef",
   "metadata": {},
   "outputs": [
    {
     "name": "stdout",
     "output_type": "stream",
     "text": [
      "trimmed(right side): motan\n"
     ]
    }
   ],
   "source": [
    "trimmed_text_right = trim_text(text)\n",
    "print('trimmed(right side):',trimmed_text_right)"
   ]
  },
  {
   "cell_type": "markdown",
   "id": "c2d5a23c",
   "metadata": {},
   "source": [
    "# substitute text"
   ]
  },
  {
   "cell_type": "code",
   "execution_count": 12,
   "id": "30c17345",
   "metadata": {},
   "outputs": [],
   "source": [
    "def substitute_text(text,old,new):\n",
    "    return text.replace(old,new)"
   ]
  },
  {
   "cell_type": "code",
   "execution_count": 13,
   "id": "d3f44967",
   "metadata": {},
   "outputs": [],
   "source": [
    "real_text = \"pipla D.B th.saoner dist.nagpur\"\n",
    "old_text = \"pipla\"\n",
    "new_text = \"motan\""
   ]
  },
  {
   "cell_type": "code",
   "execution_count": 17,
   "id": "d3dc50eb",
   "metadata": {},
   "outputs": [],
   "source": [
    "substituted_text = substitute_text(real_text,old_text,new_text)"
   ]
  },
  {
   "cell_type": "code",
   "execution_count": 18,
   "id": "3a6940ea",
   "metadata": {},
   "outputs": [
    {
     "name": "stdout",
     "output_type": "stream",
     "text": [
      "pipla D.B th.saoner dist.nagpur\n",
      "motan D.B th.saoner dist.nagpur\n"
     ]
    }
   ],
   "source": [
    "\n",
    "print(real_text)\n",
    "print(substituted_text)"
   ]
  },
  {
   "cell_type": "markdown",
   "id": "5d32d979",
   "metadata": {},
   "source": [
    "# cut text"
   ]
  },
  {
   "cell_type": "code",
   "execution_count": 19,
   "id": "231e468f",
   "metadata": {},
   "outputs": [],
   "source": [
    "def cut_text(text,start,end):\n",
    "    return text[start:end]"
   ]
  },
  {
   "cell_type": "code",
   "execution_count": 20,
   "id": "cfb5d284",
   "metadata": {},
   "outputs": [],
   "source": [
    "original_text = \"pipla D.B th.saoner dist.nagpur\"\n",
    "start_position = 90\n",
    "end_position = 18"
   ]
  },
  {
   "cell_type": "code",
   "execution_count": 21,
   "id": "a63d6bb0",
   "metadata": {},
   "outputs": [],
   "source": [
    "cut_portion = cut_text(original_text,start_position,end_position)"
   ]
  },
  {
   "cell_type": "code",
   "execution_count": 22,
   "id": "ef2d421e",
   "metadata": {},
   "outputs": [
    {
     "name": "stdout",
     "output_type": "stream",
     "text": [
      "pipla D.B th.saoner dist.nagpur\n",
      "\n"
     ]
    }
   ],
   "source": [
    "print(original_text)\n",
    "print(cut_portion)"
   ]
  },
  {
   "cell_type": "code",
   "execution_count": null,
   "id": "c7ca728b",
   "metadata": {},
   "outputs": [],
   "source": []
  }
 ],
 "metadata": {
  "kernelspec": {
   "display_name": "Python 3 (ipykernel)",
   "language": "python",
   "name": "python3"
  },
  "language_info": {
   "codemirror_mode": {
    "name": "ipython",
    "version": 3
   },
   "file_extension": ".py",
   "mimetype": "text/x-python",
   "name": "python",
   "nbconvert_exporter": "python",
   "pygments_lexer": "ipython3",
   "version": "3.11.5"
  }
 },
 "nbformat": 4,
 "nbformat_minor": 5
}
